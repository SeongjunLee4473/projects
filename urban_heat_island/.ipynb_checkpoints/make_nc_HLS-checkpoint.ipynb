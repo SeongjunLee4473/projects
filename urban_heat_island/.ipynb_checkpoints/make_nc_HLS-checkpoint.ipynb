{
 "cells": [
  {
   "cell_type": "code",
   "execution_count": 1,
   "id": "1f8f1b43-cd78-491a-838d-8d1479b30b1d",
   "metadata": {
    "tags": []
   },
   "outputs": [
    {
     "name": "stdin",
     "output_type": "stream",
     "text": [
      "Your home folder's user name? subin\n"
     ]
    },
    {
     "name": "stdout",
     "output_type": "stream",
     "text": [
      "/home/subin/data /home/subin/cpuserver_data\n"
     ]
    },
    {
     "name": "stderr",
     "output_type": "stream",
     "text": [
      "/home/subin/miniconda3/envs/cuml_env/lib/python3.10/site-packages/optuna/study/_optimize.py:20: TqdmWarning: IProgress not found. Please update jupyter and ipywidgets. See https://ipywidgets.readthedocs.io/en/stable/user_install.html\n",
      "  from optuna import progress_bar as pbar_module\n"
     ]
    }
   ],
   "source": [
    "import numpy as np\n",
    "import matplotlib.pyplot as plt\n",
    "import os\n",
    "import sys\n",
    "import glob\n",
    "import re\n",
    "import platform\n",
    "import importlib\n",
    "import netCDF4\n",
    "import multiprocessing as mp\n",
    "import itertools\n",
    "\n",
    "user_name = input(\"Your home folder's user name?\")\n",
    "\n",
    "if platform.system() == 'Darwin':  # macOS\n",
    "    base_FP = f'/Users/{user_name}/data'\n",
    "    cpuserver_data_FP = f'/Users/{user_name}/cpuserver_data'\n",
    "elif platform.system() == 'Linux':\n",
    "    base_FP = f'/home/{user_name}/data'\n",
    "    cpuserver_data_FP = f'/home/{user_name}/cpuserver_data'\n",
    "else:\n",
    "    base_FP = '/data'\n",
    "    cpuserver_data_FP = '/data'\n",
    "print(base_FP, cpuserver_data_FP)\n",
    "sys.path.append(base_FP + '/python_modules')\n",
    "\n",
    "#hydroAI libs\n",
    "import develop_HydroAI.HydroAI.HLS as hHLS\n",
    "import HydroAI.Plot as hPlot\n",
    "import HydroAI.Data as hData\n",
    "import HydroAI.Grid as hGrid\n",
    "importlib.reload(hHLS);\n",
    "importlib.reload(hPlot);\n",
    "importlib.reload(hData);\n",
    "importlib.reload(hGrid);"
   ]
  },
  {
   "cell_type": "code",
   "execution_count": 4,
   "id": "9b372d5f-c9ad-46a1-ac71-6bcbe649f6a0",
   "metadata": {
    "tags": []
   },
   "outputs": [],
   "source": [
    "def find_study_dates(root_folder, regex_date='[0-9][0-9][0-9][0-9].[0-9][0-9].[0-9][0-9]'):\n",
    "    dates = []\n",
    "    folder_pattern = os.path.join(root_folder, regex_date)\n",
    "    folders = glob.glob(folder_pattern)\n",
    "    folders = sorted(folders)\n",
    "    for folder in folders:\n",
    "        date_pattern = r'\\d{4}\\.\\d{2}\\.\\d{2}'\n",
    "        match = re.search(date_pattern, folder).group(0)\n",
    "        dates.append(match)\n",
    "    \n",
    "    return np.array(dates)"
   ]
  },
  {
   "cell_type": "code",
   "execution_count": 5,
   "id": "271ab063-5df1-4252-a522-e689fd76ec78",
   "metadata": {
    "tags": []
   },
   "outputs": [
    {
     "data": {
      "text/plain": [
       "\"\\ncreate table regions ( location text, lat double, lng double, latDelta double, lngDelta double );\\n\\nINSERT INTO regions VALUES( '서울시', 37.540705, 126.956764, 0.551279, 0.483654 );\\nINSERT INTO regions VALUES( '인천광역시', 37.469221, 126.573234, 0.513281, 0.449886 );\\nINSERT INTO regions VALUES( '광주광역시', 35.126033, 126.831302, 0.488798, 0.415746 );\\nINSERT INTO regions VALUES( '대구광역시', 35.798838, 128.583052, 0.477603, 0.409637 );\\nINSERT INTO regions VALUES( '울산광역시', 35.519301, 129.239078, 0.581102, 0.496665 );\\nINSERT INTO regions VALUES( '대전광역시', 36.321655, 127.378953, 0.431948, 0.372948 );\\nINSERT INTO regions VALUES( '부산광역시', 35.198362, 129.053922, 0.650120, 0.553922 );\\nINSERT INTO regions VALUES( '경기도', 37.567167, 127.190292, 1.454663, 1.276685 );\\nINSERT INTO regions VALUES( '강원도', 37.555837, 128.209315, 2.734753, 2.399858 );\\nINSERT INTO regions VALUES( '충청남도', 36.557229, 126.779757, 1.640025, 1.420338 );\\nINSERT INTO regions VALUES( '충청북도', 36.628503, 127.929344, 1.638511, 1.420338 );\\nINSERT INTO regions VALUES( '경상북도', 36.248647, 128.664734, 2.132939, 1.839925 );\\nINSERT INTO regions VALUES( '경상남도', 35.259787, 128.664734, 2.255005, 1.921210 );\\nINSERT INTO regions VALUES( '전라북도', 35.716705, 127.144185, 1.610107, 1.379571 );\\nINSERT INTO regions VALUES( '전라남도', 34.819400, 126.893113, 2.338820, 1.981914 );\\nINSERT INTO regions VALUES( '제주도', 33.364805, 126.542671, 1.133116, 0.943816 );\\n[출처] 전국 광역시도 위도 경도 delta 값|작성자 사공이\\n\""
      ]
     },
     "execution_count": 5,
     "metadata": {},
     "output_type": "execute_result"
    }
   ],
   "source": [
    "'''\n",
    "create table regions ( location text, lat double, lng double, latDelta double, lngDelta double );\n",
    "\n",
    "INSERT INTO regions VALUES( '서울시', 37.540705, 126.956764, 0.551279, 0.483654 );\n",
    "INSERT INTO regions VALUES( '인천광역시', 37.469221, 126.573234, 0.513281, 0.449886 );\n",
    "INSERT INTO regions VALUES( '광주광역시', 35.126033, 126.831302, 0.488798, 0.415746 );\n",
    "INSERT INTO regions VALUES( '대구광역시', 35.798838, 128.583052, 0.477603, 0.409637 );\n",
    "INSERT INTO regions VALUES( '울산광역시', 35.519301, 129.239078, 0.581102, 0.496665 );\n",
    "INSERT INTO regions VALUES( '대전광역시', 36.321655, 127.378953, 0.431948, 0.372948 );\n",
    "INSERT INTO regions VALUES( '부산광역시', 35.198362, 129.053922, 0.650120, 0.553922 );\n",
    "INSERT INTO regions VALUES( '경기도', 37.567167, 127.190292, 1.454663, 1.276685 );\n",
    "INSERT INTO regions VALUES( '강원도', 37.555837, 128.209315, 2.734753, 2.399858 );\n",
    "INSERT INTO regions VALUES( '충청남도', 36.557229, 126.779757, 1.640025, 1.420338 );\n",
    "INSERT INTO regions VALUES( '충청북도', 36.628503, 127.929344, 1.638511, 1.420338 );\n",
    "INSERT INTO regions VALUES( '경상북도', 36.248647, 128.664734, 2.132939, 1.839925 );\n",
    "INSERT INTO regions VALUES( '경상남도', 35.259787, 128.664734, 2.255005, 1.921210 );\n",
    "INSERT INTO regions VALUES( '전라북도', 35.716705, 127.144185, 1.610107, 1.379571 );\n",
    "INSERT INTO regions VALUES( '전라남도', 34.819400, 126.893113, 2.338820, 1.981914 );\n",
    "INSERT INTO regions VALUES( '제주도', 33.364805, 126.542671, 1.133116, 0.943816 );\n",
    "[출처] 전국 광역시도 위도 경도 delta 값|작성자 사공이\n",
    "'''"
   ]
  },
  {
   "cell_type": "code",
   "execution_count": 6,
   "id": "9de544a2-920e-41fe-92b4-4e3f81b91e7b",
   "metadata": {
    "tags": []
   },
   "outputs": [
    {
     "name": "stdout",
     "output_type": "stream",
     "text": [
      "(800, 1333)\n"
     ]
    }
   ],
   "source": [
    "#bound = [125.7, 129.7, 33.9, 38.8] # entire Korea\n",
    "#bound = [126.73, 126.95, 35.17, 35.37] # Around GIST in Gwangju \n",
    "bound = [126.63, 127.03, 35.04, 35.28] # entire Gwangju\n",
    "\n",
    "target_projection = 'eqd_001'\n",
    "domain_lon, domain_lat = hGrid.generate_lon_lat_eqdgrid(0.01*0.03, bounds=bound)\n",
    "print(np.shape(domain_lon))\n",
    "\n",
    "#print(domain_lat[:,0])\n",
    "#print(domain_lon[0])"
   ]
  },
  {
   "cell_type": "code",
   "execution_count": 7,
   "id": "12a4943a-2efa-44d3-baa8-be96c85a2603",
   "metadata": {
    "tags": []
   },
   "outputs": [],
   "source": [
    "def combined_crop_lon_lat(lon, lat, bounds):\n",
    "    lon_crop = (lon > bounds[0]) & (lon < bounds[1])\n",
    "    lat_crop = (lat > bounds[2]) & (lat < bounds[3])\n",
    "    combined_crop = lat_crop & lon_crop\n",
    "    row_indices, col_indices = np.where(combined_crop)\n",
    "    \n",
    "    min_row, max_row = row_indices.min(), row_indices.max()\n",
    "    min_col, max_col = col_indices.min(), col_indices.max()\n",
    "\n",
    "    return min_row, max_row, min_col, max_col"
   ]
  },
  {
   "cell_type": "code",
   "execution_count": 12,
   "id": "31a6e251-f8aa-42bf-a0c8-f42b5c0c299e",
   "metadata": {
    "tags": []
   },
   "outputs": [],
   "source": [
    "def parallel_func(year):\n",
    "    var_list = ['coastal', 'blue', 'green', 'red', 'nir', 'swir1', 'swir2', 'cirrus', 'tir1', 'tir2', 'qa']\n",
    "    \n",
    "    #for year in year_list:\n",
    "    study_dates = find_study_dates(f'{cpuserver_data_FP}/HLS/Korea/L30/{year}')\n",
    "\n",
    "    m, n = np.shape(domain_lat)\n",
    "    coastal_total = np.full((m, n, len(study_dates)), np.nan)\n",
    "    blue_total = np.full((m, n, len(study_dates)), np.nan)\n",
    "    green_total = np.full((m, n, len(study_dates)), np.nan)\n",
    "    red_total = np.full((m, n, len(study_dates)), np.nan)\n",
    "    nir_total = np.full((m, n, len(study_dates)), np.nan)\n",
    "    swir1_total = np.full((m, n, len(study_dates)), np.nan)\n",
    "    swir2_total = np.full((m, n, len(study_dates)), np.nan)\n",
    "    cirrus_total = np.full((m, n, len(study_dates)), np.nan)\n",
    "    tir1_total = np.full((m, n, len(study_dates)), np.nan)\n",
    "    tir2_total = np.full((m, n, len(study_dates)), np.nan)\n",
    "    qa_total = np.full((m, n, len(study_dates)), np.nan)\n",
    "        \n",
    "    for i, target_date in enumerate(study_dates):\n",
    "        base_folder = f'{cpuserver_data_FP}/HLS/Korea/L30/{target_date[:4]}/{target_date}'\n",
    "        s2_reader = hHLS.BandReader(base_folder, product='L30')\n",
    "\n",
    "        try:\n",
    "            var_dict = {}\n",
    "            for var in var_list:\n",
    "                data = s2_reader[var]\n",
    "                lons, lats  = s2_reader.get_lat_lon_arrays(var)\n",
    "    \n",
    "                # Find the bounding box & indices\n",
    "                min_row, max_row, min_col, max_col = combined_crop_lon_lat(lons, lats, bounds=bound)\n",
    "                \n",
    "                # Crop lat, lon, data\n",
    "                cropped_lat = lats[min_row:max_row+1, min_col:max_col+1]\n",
    "                cropped_lon = lons[min_row:max_row+1, min_col:max_col+1]\n",
    "                cropped_data = data[min_row:max_row+1, min_col:max_col+1]\n",
    "    \n",
    "                # Find the cropped domain lon, lat\n",
    "                min_row, max_row, min_col, max_col = combined_crop_lon_lat(domain_lon, domain_lat, bounds=bound)\n",
    "    \n",
    "                # Crop lat, lon, data\n",
    "                cropped_domain_lat = domain_lat[min_row:max_row+1, min_col:max_col+1]\n",
    "                cropped_domain_lon = domain_lon[min_row:max_row+1, min_col:max_col+1]\n",
    "                \n",
    "                cropped_data = hData.Resampling(cropped_domain_lon, cropped_domain_lat, cropped_lon, cropped_lat, cropped_data, \n",
    "                                                sampling_method='nearest', mag_factor=3)           \n",
    "                var_dict[var] = cropped_data            \n",
    "\n",
    "            coastal_total[min_row:max_row+1, min_col:max_col+1, i] = var_dict['coastal']\n",
    "            blue_total[min_row:max_row+1, min_col:max_col+1, i] = var_dict['blue']\n",
    "            green_total[min_row:max_row+1, min_col:max_col+1, i] = var_dict['green']\n",
    "            red_total[min_row:max_row+1, min_col:max_col+1, i] = var_dict['red']\n",
    "            nir_total[min_row:max_row+1, min_col:max_col+1, i] = var_dict['nir']\n",
    "            swir1_total[min_row:max_row+1, min_col:max_col+1, i] = var_dict['swir1']\n",
    "            swir2_total[min_row:max_row+1, min_col:max_col+1, i] = var_dict['swir2']\n",
    "            cirrus_total[min_row:max_row+1, min_col:max_col+1, i] = var_dict['cirrus']\n",
    "            tir1_total[min_row:max_row+1, min_col:max_col+1, i] = var_dict['tir1']\n",
    "            tir2_total[min_row:max_row+1, min_col:max_col+1, i] = var_dict['tir2']\n",
    "            qa_total[min_row:max_row+1, min_col:max_col+1, i] = var_dict['qa']\n",
    "        \n",
    "        except ValueError as e:\n",
    "            print(year, target_date, var, e)\n",
    "\n",
    "    study_dates = np.char.replace(study_dates, '.', '').astype(int) # str(yyyy.mm.dd) -> int(yyyymmdd)    \n",
    "    \n",
    "    nc_file_name = f'{cpuserver_data_FP}/HLS/Korea/UHI_project_L30/HLS_{year}_GJ.nc'\n",
    "\n",
    "    hData.create_netcdf_file(\n",
    "        nc_file=nc_file_name, \n",
    "        latitude=domain_lat, \n",
    "        longitude=domain_lon,\n",
    "        dates=study_dates,\n",
    "        coastal=coastal_total,\n",
    "        blue=blue_total,\n",
    "        green=green_total,\n",
    "        red=red_total,\n",
    "        nir=nir_total,\n",
    "        swir1=swir1_total,\n",
    "        swir2=swir2_total,\n",
    "        cirrus=cirrus_total,\n",
    "        tir1=tir1_total,\n",
    "        tir2=tir2_total,\n",
    "        qa=qa_total\n",
    "    )"
   ]
  },
  {
   "cell_type": "code",
   "execution_count": 14,
   "id": "4faed90a-8ee4-4cee-bb91-0432d98de325",
   "metadata": {
    "tags": []
   },
   "outputs": [
    {
     "name": "stdout",
     "output_type": "stream",
     "text": [
      "2024 2024.02.03 coastal zero-size array to reduction operation minimum which has no identity\n",
      "2024 2024.02.19 coastal zero-size array to reduction operation minimum which has no identity\n",
      "2024 2024.03.24 coastal zero-size array to reduction operation minimum which has no identity\n",
      "2024 2024.06.20 coastal zero-size array to reduction operation minimum which has no identity\n",
      "2024 2024.09.07 coastal zero-size array to reduction operation minimum which has no identity\n",
      "NetCDF file /home/subin/cpuserver_data/HLS/Korea/UHI_project_L30/HLS_2024_GJ.nc created successfully.\n"
     ]
    }
   ],
   "source": [
    "#year_list = list(range(2013, 2024 + 1))\n",
    "year_list = list(range(2024, 2024 + 1))\n",
    "\n",
    "if __name__ == '__main__':\n",
    "    # Parallel running\n",
    "    pool = mp.Pool(20)\n",
    "    pool.map(parallel_func, year_list)"
   ]
  },
  {
   "cell_type": "code",
   "execution_count": 35,
   "id": "7584d531-7b45-4cfc-932f-3e9fa749da8f",
   "metadata": {},
   "outputs": [],
   "source": [
    "year = 2024\n",
    "nc_file_name = f'{cpuserver_data_FP}/HLS/Korea/UHI_project_L30/HLS_{year}_GJ.nc' \n",
    "nc_data   = netCDF4.Dataset(nc_file_name)\n",
    "dates_int = nc_data.variables['dates'][:].data\n",
    "tir1    = nc_data.variables['tir1'][:].data\n",
    "red     = nc_data.variables['red'][:].data\n",
    "nir     = nc_data.variables['nir'][:].data\n",
    "swir1   = nc_data.variables['swir1'][:].data\n",
    "nc_data.close()"
   ]
  },
  {
   "cell_type": "code",
   "execution_count": 36,
   "id": "7fe7ef9e-7bee-4d34-9269-46bf08927b50",
   "metadata": {},
   "outputs": [
    {
     "name": "stdout",
     "output_type": "stream",
     "text": [
      "[20240102 20240103 20240104 20240110 20240111 20240112 20240118 20240119\n",
      " 20240126 20240127 20240128 20240203 20240204 20240211 20240212 20240213\n",
      " 20240219 20240227 20240228 20240306 20240307 20240308 20240314 20240315\n",
      " 20240316 20240322 20240323 20240324 20240330 20240331 20240401 20240407\n",
      " 20240408 20240409 20240416 20240417 20240423 20240424 20240425 20240501\n",
      " 20240502 20240503 20240509 20240510 20240511 20240517 20240518 20240519]\n",
      "['2024.01.02', '2024.01.03', '2024.01.04', '2024.01.10', '2024.01.11', '2024.01.12', '2024.01.18', '2024.01.19', '2024.01.26', '2024.01.27', '2024.01.28', '2024.02.03', '2024.02.04', '2024.02.11', '2024.02.12', '2024.02.13', '2024.02.19', '2024.02.27', '2024.02.28', '2024.03.06', '2024.03.07', '2024.03.08', '2024.03.14', '2024.03.15', '2024.03.16', '2024.03.22', '2024.03.23', '2024.03.24', '2024.03.30', '2024.03.31', '2024.04.01', '2024.04.07', '2024.04.08', '2024.04.09', '2024.04.16', '2024.04.17', '2024.04.23', '2024.04.24', '2024.04.25', '2024.05.01', '2024.05.02', '2024.05.03', '2024.05.09', '2024.05.10', '2024.05.11', '2024.05.17', '2024.05.18', '2024.05.19']\n"
     ]
    }
   ],
   "source": [
    "print(dates_int)\n",
    "dates = [f\"{str(x)[:4]}.{str(x)[4:6]}.{str(x)[6:]}\" for x in dates_int]\n",
    "print(dates)"
   ]
  },
  {
   "cell_type": "code",
   "execution_count": 37,
   "id": "5b623737-2b04-4073-ae6e-8cc05808de21",
   "metadata": {},
   "outputs": [
    {
     "data": {
      "text/plain": [
       "(800, 1333, 48)"
      ]
     },
     "execution_count": 37,
     "metadata": {},
     "output_type": "execute_result"
    }
   ],
   "source": [
    "np.shape(tir1)"
   ]
  },
  {
   "cell_type": "code",
   "execution_count": 38,
   "id": "68a65969-3e89-43e5-a491-c3b52d448c7f",
   "metadata": {},
   "outputs": [
    {
     "data": {
      "image/png": "[encoded data removed]",
      "text/plain": [
       "<Figure size 1000x600 with 1 Axes>"
      ]
     },
     "metadata": {},
     "output_type": "display_data"
    }
   ],
   "source": [
    "import matplotlib.pyplot as plt\n",
    "import pandas as pd\n",
    "\n",
    "# Dataset\n",
    "#dates = ['2013.04.11', '2013.04.25', '2013.04.27', '2013.05.11', '2013.05.13', '2013.05.20', '2013.06.05', '2013.06.21', '2013.06.28', '2013.06.30']\n",
    "values = tir1[300, 300, :]\n",
    "\n",
    "# Convert date strings to datetime objects\n",
    "dates = pd.to_datetime(dates, format='%Y.%m.%d')\n",
    "\n",
    "# Plotting\n",
    "plt.figure(figsize=(10, 6))\n",
    "plt.plot(dates, values, marker='o', linestyle='-')\n",
    "plt.xlabel('Date')\n",
    "plt.ylabel('Value')\n",
    "plt.title('Time Series Plot with Non-uniform Time Grid')\n",
    "plt.grid(True)\n",
    "plt.xticks(rotation=45)\n",
    "plt.tight_layout()\n",
    "plt.show()\n"
   ]
  },
  {
   "cell_type": "code",
   "execution_count": null,
   "id": "8f09ed26-7254-4006-807e-8c689606f560",
   "metadata": {},
   "outputs": [],
   "source": []
  }
 ],
 "metadata": {
  "kernelspec": {
   "display_name": "Python 3 (ipykernel)",
   "language": "python",
   "name": "python3"
  },
  "language_info": {
   "codemirror_mode": {
    "name": "ipython",
    "version": 3
   },
   "file_extension": ".py",
   "mimetype": "text/x-python",
   "name": "python",
   "nbconvert_exporter": "python",
   "pygments_lexer": "ipython3",
   "version": "3.10.14"
  }
 },
 "nbformat": 4,
 "nbformat_minor": 5
}
